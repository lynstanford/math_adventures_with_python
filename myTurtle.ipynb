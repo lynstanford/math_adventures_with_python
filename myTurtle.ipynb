{
 "cells": [
  {
   "cell_type": "markdown",
   "metadata": {},
   "source": [
    "# Math Adventures With Python\n",
    "\n",
    "\n",
    "## Chapter 1\n",
    "\n",
    "Following along with exercises"
   ]
  },
  {
   "cell_type": "code",
   "execution_count": null,
   "metadata": {},
   "outputs": [],
   "source": [
    "from turtle import *\n",
    "\n",
    "forward(100)\n",
    "shape('turtle')\n",
    "right(90)\n",
    "forward(100)\n",
    "rt(90)\n",
    "forward(100)\n",
    "rt(90)\n",
    "forward(100)\n",
    "done()"
   ]
  },
  {
   "cell_type": "markdown",
   "metadata": {},
   "source": [
    "Next we can provide further instructions to make this more fun. First we will define a function variable (i.e. create our own function) and then create a loop. 'i' represents the number of 'iterations' in the loop."
   ]
  },
  {
   "cell_type": "code",
   "execution_count": null,
   "metadata": {},
   "outputs": [],
   "source": [
    "def square():\n",
    "    for i in range(4):\n",
    "        forward(100)\n",
    "        right(90)\n",
    "        done()"
   ]
  },
  {
   "cell_type": "markdown",
   "metadata": {},
   "source": [
    "This performs the same action as above using a 'for' loop. However we still need to import the turtle package."
   ]
  },
  {
   "cell_type": "code",
   "execution_count": null,
   "metadata": {},
   "outputs": [],
   "source": [
    "from turtle import *\n",
    "shape('turtle')\n",
    "def square():\n",
    "    for i in range(4):\n",
    "        forward(100)\n",
    "        right(90)\n",
    "square()               # make sure you call the function at the end\n",
    "done()"
   ]
  },
  {
   "cell_type": "markdown",
   "metadata": {},
   "source": [
    "As the square() function is defined, it is stored in memory which means it can be re-used."
   ]
  },
  {
   "cell_type": "code",
   "execution_count": null,
   "metadata": {},
   "outputs": [],
   "source": [
    "from turtle import *\n",
    "shape('turtle')\n",
    "speed(1)\n",
    "def square():\n",
    "    for i in range(4):\n",
    "        forward(100)\n",
    "        right(90)\n",
    "square()\n",
    "done()"
   ]
  },
  {
   "cell_type": "markdown",
   "metadata": {},
   "source": [
    "Use the speed() module which ranges from 1 (the slowest) to 0 (the fastest).\n",
    "\n",
    "Next I will repeat 60 squares, turning 6 degrees each time until a full circle is created. I have also changed the speed module (method) to 9 this time."
   ]
  },
  {
   "cell_type": "code",
   "execution_count": 2,
   "metadata": {},
   "outputs": [],
   "source": [
    "from turtle import *\n",
    "import turtle as t\n",
    "shape('turtle')\n",
    "speed(9)\n",
    "def square():\n",
    "    for i in range(4):\n",
    "        t.color('white')\n",
    "        t.bgcolor('turquoise')\n",
    "        t.forward(150)\n",
    "        t.right(90)\n",
    "square()\n",
    "\n",
    "for i in range(60):\n",
    "    square()\n",
    "    t.right(6)\n",
    "done()\n"
   ]
  },
  {
   "cell_type": "markdown",
   "metadata": {},
   "source": [
    "Next we will assign an argument or value to control the length of each side of the square. This can either be variable or fixed. "
   ]
  },
  {
   "cell_type": "code",
   "execution_count": 1,
   "metadata": {},
   "outputs": [],
   "source": [
    "from turtle import *\n",
    "\n",
    "def square(sidelength):\n",
    "    for i in range(4):\n",
    "        forward(sidelength)\n",
    "        right(90)\n",
    "        square(80)\n",
    "done()"
   ]
  },
  {
   "cell_type": "markdown",
   "metadata": {},
   "source": [
    "Nothing happens. Either place a number instead of 'sidelength' or fix the value of 'sidelength'."
   ]
  },
  {
   "cell_type": "code",
   "execution_count": 2,
   "metadata": {},
   "outputs": [],
   "source": [
    "from turtle import *\n",
    "\n",
    "def square(sidelength=100):\n",
    "    for i in range(4):\n",
    "        forward(sidelength)\n",
    "        right(90)\n",
    "\n",
    "square(50)\n",
    "square(30)\n",
    "square()\n",
    "done()"
   ]
  },
  {
   "cell_type": "code",
   "execution_count": null,
   "metadata": {},
   "outputs": [],
   "source": []
  }
 ],
 "metadata": {
  "kernelspec": {
   "display_name": "Python 3.7.4 64-bit ('base': conda)",
   "language": "python",
   "name": "python37464bitbaseconda4f632054b04c4033ba3690453bd32f12"
  },
  "language_info": {
   "codemirror_mode": {
    "name": "ipython",
    "version": 3
   },
   "file_extension": ".py",
   "mimetype": "text/x-python",
   "name": "python",
   "nbconvert_exporter": "python",
   "pygments_lexer": "ipython3",
   "version": "3.7.4"
  }
 },
 "nbformat": 4,
 "nbformat_minor": 4
}
