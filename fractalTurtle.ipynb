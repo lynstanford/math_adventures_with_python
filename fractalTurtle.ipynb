{
 "cells": [
  {
   "cell_type": "code",
   "execution_count": null,
   "metadata": {},
   "outputs": [],
   "source": [
    "from turtle import *\n",
    "from random import *\n"
   ]
  },
  {
   "cell_type": "markdown",
   "metadata": {},
   "source": [
    "Declare five new variables"
   ]
  },
  {
   "cell_type": "code",
   "execution_count": null,
   "metadata": {},
   "outputs": [],
   "source": [
    "t1, t2, t3, t4, t5 = Turtle(), Turtle(), Turtle(), Turtle(), Turtle() "
   ]
  },
  {
   "cell_type": "markdown",
   "metadata": {},
   "source": [
    "Create a new array containing the five variables"
   ]
  },
  {
   "cell_type": "code",
   "execution_count": null,
   "metadata": {},
   "outputs": [],
   "source": [
    "turtles = [t1, t2, t3, t4, t5]\n",
    "x = -200\n",
    "for t in turtles:\n",
    "    x += randint(60,160)\n",
    "    y = randint(-50,50)\n",
    "    t.speed(100)\n",
    "    t.left(90)\n",
    "    t.color('brown')\n",
    "    t.pu()\n",
    "    t.goto(x,y)\n",
    "    t.pd()"
   ]
  },
  {
   "cell_type": "code",
   "execution_count": null,
   "metadata": {},
   "outputs": [],
   "source": [
    "def branch(turt, branch_len, angle):\n",
    "    angle = randint(18,28)\n",
    "    sf = uniform(0.6,0.8)\n",
    "    size = branch_len/10\n",
    "    turt.pensize(size)\n",
    "    if branch_len < 20:\n",
    "        turt.color('green')\n",
    "        turt.stamp()\n",
    "        turt.color('brown')\n",
    "    if branch_len > 10:\n",
    "        turt.forward(branch_len)\n",
    "        turt.left(angle)\n",
    "        branch(turt,sf*branch_len,angle)\n",
    "        turt.left(angle)\n",
    "        turt.backward(branch_len)\n",
    "        \n",
    "for t in turtles:\n",
    "    branch(t,100,22)"
   ]
  }
 ],
 "metadata": {
  "kernelspec": {
   "display_name": "Python 3.8.0 64-bit",
   "language": "python",
   "name": "python38064bit04b5fb8aec3446a48bd0510235d2ad97"
  },
  "language_info": {
   "name": ""
  }
 },
 "nbformat": 4,
 "nbformat_minor": 4
}